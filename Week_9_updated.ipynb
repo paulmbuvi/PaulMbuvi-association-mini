{
 "cells": [
  {
   "cell_type": "markdown",
   "id": "af0b1034",
   "metadata": {},
   "source": [
    "# 📊 Week 9: Association Rule Mining – Tech/Gaming Accessories"
   ]
  },
  {
   "cell_type": "code",
   "execution_count": null,
   "id": "fcfca8f4",
   "metadata": {},
   "outputs": [],
   "source": [
    "import pandas as pd\n",
    "from mlxtend.frequent_patterns import apriori, association_rules\n",
    "\n",
    "# 🎮 Simulated transaction data: gaming accessories\n",
    "dataset = [\n",
    "    ['Gaming Mouse', 'RGB Headset'],\n",
    "    ['Mechanical Keyboard', 'USB Hub', 'Gaming Mouse'],\n",
    "    ['Gaming Mouse', 'RGB Headset', 'Webcam HD', 'USB Hub'],\n",
    "    ['Gaming Chair', 'Mechanical Keyboard', 'Stream Deck'],\n",
    "    ['Gaming Mouse', 'Mouse Pad XL', 'Webcam HD'],\n",
    "    ['Gaming Chair', 'Mouse Pad XL'],\n",
    "    ['Mechanical Keyboard', 'Gaming Mouse', 'Mouse Pad XL'],\n",
    "    ['USB Hub', 'Stream Deck'],\n",
    "    ['RGB Headset', 'Mouse Pad XL', 'Gaming Chair'],\n",
    "    ['Webcam HD', 'Stream Deck']\n",
    "]\n",
    "\n",
    "# 🔄 One-hot encoding\n",
    "all_items = sorted(set(item for transaction in dataset for item in transaction))\n",
    "encoded_data = []\n",
    "for transaction in dataset:\n",
    "    encoded_data.append({item: (item in transaction) for item in all_items})\n",
    "df = pd.DataFrame(encoded_data)\n",
    "df.head()\n"
   ]
  },
  {
   "cell_type": "code",
   "execution_count": null,
   "id": "02d03d84",
   "metadata": {},
   "outputs": [],
   "source": [
    "# 🧠 Apply Apriori Algorithm (min_support = 0.3 = 30%)\n",
    "frequent_itemsets = apriori(df, min_support=0.3, use_colnames=True)\n",
    "frequent_itemsets\n"
   ]
  },
  {
   "cell_type": "code",
   "execution_count": null,
   "id": "bd2d95dd",
   "metadata": {},
   "outputs": [],
   "source": [
    "# 🔗 Generate association rules (confidence ≥ 0.7 = 70%)\n",
    "rules = association_rules(frequent_itemsets, metric='confidence', min_threshold=0.7)\n",
    "\n",
    "# Show at least 2 rules\n",
    "rules[['antecedents', 'consequents', 'support', 'confidence', 'lift']].head(3)\n"
   ]
  },
  {
   "cell_type": "markdown",
   "id": "9f76fa12",
   "metadata": {},
   "source": [
    "## 💬 Interpretation of a Sample Rule"
   ]
  },
  {
   "cell_type": "code",
   "execution_count": null,
   "id": "cc081c8d",
   "metadata": {},
   "outputs": [],
   "source": [
    "# Display one rule in human-readable format\n",
    "if not rules.empty:\n",
    "    rule = rules.iloc[0]\n",
    "    print(f\"🛍️ If a customer buys {list(rule['antecedents'])}, they are likely to also buy {list(rule['consequents'])} \"\n",
    "          f\"with {rule['confidence']*100:.1f}% confidence (Lift: {rule['lift']:.2f}).\")\n",
    "else:\n",
    "    print(\"No rules met the threshold.\")\n"
   ]
  }
 ],
 "metadata": {},
 "nbformat": 4,
 "nbformat_minor": 5
}