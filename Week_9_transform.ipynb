{
 "cells": [
  {
   "cell_type": "code",
   "execution_count": null,
   "id": "82335526",
   "metadata": {},
   "outputs": [
    {
     "name": "stdout",
     "output_type": "stream",
     "text": [
      "🧾 Frequent Itemsets:\n",
      "    support                       itemsets\n",
      "0      0.4                   (Chef Knife)\n",
      "1      0.3                (Cutting Board)\n",
      "2      0.3                (Digital Scale)\n",
      "3      0.3               (Measuring Cups)\n",
      "4      0.4                  (Mixing Bowl)\n",
      "5      0.3                   (Oven Mitts)\n",
      "6      0.4                   (Spice Rack)\n",
      "7      0.3                        (Whisk)\n",
      "8      0.3  (Mixing Bowl, Measuring Cups)\n",
      "\n",
      "🔗 Association Rules:\n",
      "         antecedents       consequents  support  confidence  lift\n",
      "0     (Mixing Bowl)  (Measuring Cups)      0.3        0.75   2.5\n",
      "1  (Measuring Cups)     (Mixing Bowl)      0.3        1.00   2.5\n",
      "\n",
      "💬 Rule Explanation Example:\n",
      "If a customer buys ['Mixing Bowl'], they are also likely to buy ['Measuring Cups'] with 75.0% confidence.\n"
     ]
    }
   ],
   "source": [
    "import pandas as pd\n",
    "from mlxtend.frequent_patterns import apriori, association_rules\n",
    "\n",
    "# 🍳 Simulated transaction data: cooking class supplies\n",
    "dataset = [\n",
    "    ['Chef Knife', 'Cutting Board'],\n",
    "    ['Measuring Cups', 'Mixing Bowl', 'Whisk'],\n",
    "    ['Chef Knife', 'Whisk', 'Digital Scale'],\n",
    "    ['Mixing Bowl', 'Digital Scale', 'Spice Rack'],\n",
    "    ['Cutting Board', 'Chef Knife', 'Oven Mitts'],\n",
    "    ['Spice Rack', 'Oven Mitts'],\n",
    "    ['Mixing Bowl', 'Measuring Cups', 'Digital Scale'],\n",
    "    ['Chef Knife', 'Spice Rack'],\n",
    "    ['Measuring Cups', 'Cutting Board', 'Mixing Bowl'],\n",
    "    ['Whisk', 'Spice Rack', 'Oven Mitts']\n",
    "]\n",
    "\n",
    "# 🔄 Create one-hot encoded DataFrame\n",
    "all_items = sorted(set(item for transaction in dataset for item in transaction))\n",
    "encoded_data = []\n",
    "for transaction in dataset:\n",
    "    encoded_data.append({item: (item in transaction) for item in all_items})\n",
    "df = pd.DataFrame(encoded_data)\n",
    "\n",
    "# 🧠 Apply Apriori Algorithm (min_support = 0.3 = 30%)\n",
    "frequent_itemsets = apriori(df, min_support=0.3, use_colnames=True)\n",
    "\n",
    "# 🔗 Generate association rules (confidence ≥ 0.7 = 70%)\n",
    "rules = association_rules(frequent_itemsets, metric='confidence', min_threshold=0.7)\n",
    "\n",
    "# 📊 Display output\n",
    "print(\"🧾 Frequent Itemsets:\\n\", frequent_itemsets)\n",
    "print(\"\\n🔗 Association Rules:\\n\", rules[['antecedents', 'consequents', 'support', 'confidence', 'lift']])\n",
    "\n",
    "# 💡 Example Rule Interpretation\n",
    "print(\"\\n💬 Rule Explanation Example:\")\n",
    "if not rules.empty:\n",
    "    rule = rules.iloc[0]\n",
    "    print(f\"If a customer buys {list(rule['antecedents'])}, they are also likely to buy {list(rule['consequents'])} \"\n",
    "          f\"with {rule['confidence']*100:.1f}% confidence.\")\n",
    "else:\n",
    "    print(\"No rules met the minimum threshold.\")\n"
   ]
  }
 ],
 "metadata": {
  "kernelspec": {
   "display_name": "Python 3",
   "language": "python",
   "name": "python3"
  },
  "language_info": {
   "codemirror_mode": {
    "name": "ipython",
    "version": 3
   },
   "file_extension": ".py",
   "mimetype": "text/x-python",
   "name": "python",
   "nbconvert_exporter": "python",
   "pygments_lexer": "ipython3",
   "version": "3.11.9"
  }
 },
 "nbformat": 4,
 "nbformat_minor": 5
}
